{
 "cells": [
  {
   "cell_type": "markdown",
   "metadata": {},
   "source": [
    "# INTRODUCTION"
   ]
  },
  {
   "cell_type": "markdown",
   "metadata": {},
   "source": [
    "> New York and Toronto are financial capitals of their respective countries USA & Canada. They are also high density metros with multi-cultural and diverse populations. We will study through K clustering of Foursquare API data for the neighborhoods of both of the cities. It will be interesting to note similarities and differences between the two cities & classification of areas/suburbs/neighborhoods/boroughs located inside the city whether it is residential, tourism places, or others.\n",
    "\n",
    "The project analysis relies on accuracy and sample size of foursquare data to reflect the overall behavior of the cities' neighborhoods.\n"
   ]
  },
  {
   "cell_type": "markdown",
   "metadata": {},
   "source": [
    "Explore More About the two Cities in case you wish to:\n",
    "    \n",
    "[Wikipedia link to New York](https://en.wikipedia.org/wiki/New_York_City, \"NEW YORK\")\n",
    "\n",
    "[Wikipedia link to Toronto](https://en.wikipedia.org/wiki/Toronto, \"TORONTO\")\n",
    "  \n",
    "    "
   ]
  },
  {
   "cell_type": "code",
   "execution_count": null,
   "metadata": {},
   "outputs": [],
   "source": []
  }
 ],
 "metadata": {
  "kernelspec": {
   "display_name": "Python",
   "language": "python",
   "name": "conda-env-python-py"
  },
  "language_info": {
   "codemirror_mode": {
    "name": "ipython",
    "version": 3
   },
   "file_extension": ".py",
   "mimetype": "text/x-python",
   "name": "python",
   "nbconvert_exporter": "python",
   "pygments_lexer": "ipython3",
   "version": "3.6.7"
  }
 },
 "nbformat": 4,
 "nbformat_minor": 4
}
